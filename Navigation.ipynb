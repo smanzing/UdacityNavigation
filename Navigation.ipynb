{
 "cells": [
  {
   "cell_type": "markdown",
   "metadata": {},
   "source": [
    "# Navigation\n",
    "\n",
    "---\n",
    "\n",
    "In this notebook, we use the Unity ML-Agents environment for the first project of the [Deep Reinforcement Learning Nanodegree](https://www.udacity.com/course/deep-reinforcement-learning-nanodegree--nd893).\n",
    "\n",
    "## 1. Start the environment\n",
    "\n",
    "We begin by importing some necessary packages.  "
   ]
  },
  {
   "cell_type": "code",
   "execution_count": 1,
   "metadata": {},
   "outputs": [],
   "source": [
    "from unityagents import UnityEnvironment\n",
    "import torch\n",
    "import numpy as np\n",
    "import matplotlib.pyplot as plt\n",
    "\n",
    "import rl_lib\n",
    "from rl_lib.replay import ReplayBuffer\n",
    "from rl_lib.agent import Agent, DQNExtensions\n",
    "from rl_lib.training import dqn"
   ]
  },
  {
   "cell_type": "markdown",
   "metadata": {},
   "source": [
    "Next, we will start the environment!  **_Before running the code cell below_**, change the `file_name` parameter to match the location of the Unity environment that you downloaded.\n",
    "\n",
    "- **Mac**: `\"path/to/Banana.app\"`\n",
    "- **Windows** (x86): `\"path/to/Banana_Windows_x86/Banana.exe\"`\n",
    "- **Windows** (x86_64): `\"path/to/Banana_Windows_x86_64/Banana.exe\"`\n",
    "- **Linux** (x86): `\"path/to/Banana_Linux/Banana.x86\"`\n",
    "- **Linux** (x86_64): `\"path/to/Banana_Linux/Banana.x86_64\"`\n",
    "- **Linux** (x86, headless): `\"path/to/Banana_Linux_NoVis/Banana.x86\"`\n",
    "- **Linux** (x86_64, headless): `\"path/to/Banana_Linux_NoVis/Banana.x86_64\"`\n",
    "\n",
    "For instance, if you are using a Mac, then you downloaded `Banana.app`.  If this file is in the same folder as the notebook, then the line below should appear as follows:\n",
    "```\n",
    "env = UnityEnvironment(file_name=\"Banana.app\")\n",
    "```"
   ]
  },
  {
   "cell_type": "code",
   "execution_count": 2,
   "metadata": {},
   "outputs": [
    {
     "name": "stderr",
     "output_type": "stream",
     "text": [
      "INFO:unityagents:\n",
      "'Academy' started successfully!\n",
      "Unity Academy name: Academy\n",
      "        Number of Brains: 1\n",
      "        Number of External Brains : 1\n",
      "        Lesson number : 0\n",
      "        Reset Parameters :\n",
      "\t\t\n",
      "Unity brain name: BananaBrain\n",
      "        Number of Visual Observations (per agent): 0\n",
      "        Vector Observation space type: continuous\n",
      "        Vector Observation space size (per agent): 37\n",
      "        Number of stacked Vector Observation: 1\n",
      "        Vector Action space type: discrete\n",
      "        Vector Action space size (per agent): 4\n",
      "        Vector Action descriptions: , , , \n"
     ]
    }
   ],
   "source": [
    "env = UnityEnvironment(file_name=\"Banana.app\")"
   ]
  },
  {
   "cell_type": "markdown",
   "metadata": {},
   "source": [
    "Environments contain **_brains_** which are responsible for deciding the actions of their associated agents. Here we check for the first brain available, and set it as the default brain we will be controlling from Python."
   ]
  },
  {
   "cell_type": "code",
   "execution_count": 3,
   "metadata": {},
   "outputs": [],
   "source": [
    "# get the default brain\n",
    "brain_name = env.brain_names[0]\n",
    "brain = env.brains[brain_name]"
   ]
  },
  {
   "cell_type": "code",
   "execution_count": 4,
   "metadata": {},
   "outputs": [],
   "source": [
    "# get information about the environment\n",
    "action_size = brain.vector_action_space_size\n",
    "\n",
    "env_info = env.reset(train_mode=True)[brain_name]\n",
    "state_size = len(env_info.vector_observations[0])"
   ]
  },
  {
   "cell_type": "markdown",
   "metadata": {},
   "source": [
    "## 2. Train the agent\n",
    "\n",
    "The simulation contains a single agent that navigates a large environment.  At each time step, it has four actions at its disposal:\n",
    "- `0` - walk forward \n",
    "- `1` - walk backward\n",
    "- `2` - turn left\n",
    "- `3` - turn right\n",
    "\n",
    "The state space has `37` dimensions and contains the agent's velocity, along with ray-based perception of objects around agent's forward direction.  A reward of `+1` is provided for collecting a yellow banana, and a reward of `-1` is provided for collecting a blue banana. \n",
    "\n",
    "Run the code cell below to train the agent to navigate through the environment. The agent tries to collect many yellow bananas while avoiding blue bananas."
   ]
  },
  {
   "cell_type": "markdown",
   "metadata": {},
   "source": [
    "### 2.1 DQN algorithm\n",
    "\n",
    "In the next cells, we train an agent using the standard DQN algorithm."
   ]
  },
  {
   "cell_type": "code",
   "execution_count": 5,
   "metadata": {},
   "outputs": [],
   "source": [
    "# set-up replay buffer\n",
    "ReplayBufferInput = {\n",
    "    \"action_size\": action_size,  # dimension of each action\n",
    "    \"buffer_size\": int(1e5),  # replay buffer size\n",
    "    \"batch_size\": 64,  # minibatch size\n",
    "    \"random_seed\": 0,\n",
    "    \"alpha\": 0.0,\n",
    "    \"beta\": 0.0\n",
    "}\n",
    "\n",
    "replay_buffer = ReplayBuffer(**ReplayBufferInput)"
   ]
  },
  {
   "cell_type": "code",
   "execution_count": 6,
   "metadata": {},
   "outputs": [],
   "source": [
    "# set-up the agent \n",
    "AgentInput = {\n",
    "    \"state_size\": state_size, # dimension of each state\n",
    "    \"action_size\": action_size, # dimension of each action\n",
    "    \"seed\": 0, # random seed\n",
    "    \"replay_buffer\": replay_buffer, # replay buffer\n",
    "    \"gamma\": 0.99, # discount factor\n",
    "    \"tau\": 1e-3, # for soft update of target parameters\n",
    "    \"learning_rate\": 5e-4, # learning rate\n",
    "    \"update_local_every\": 2, # how often to update the local network\n",
    "    \"update_target_every\": 4, # how often to update the target network\n",
    "    \"dqn_extensions\": [] # if empty, the standard DQN algorithm is used for learning.\n",
    "    \n",
    "}\n",
    "\n",
    "agent = Agent(**AgentInput)"
   ]
  },
  {
   "cell_type": "code",
   "execution_count": 7,
   "metadata": {},
   "outputs": [
    {
     "name": "stdout",
     "output_type": "stream",
     "text": [
      "Episode 100\tAverage Score: 4.57\n",
      "Episode 200\tAverage Score: 9.41\n",
      "Episode 300\tAverage Score: 11.22\n",
      "Episode 369\tAverage Score: 13.00\n",
      "Environment solved in 269 episodes!\tAverage Score: 13.00\n",
      "Episode 400\tAverage Score: 13.46\n",
      "Episode 500\tAverage Score: 15.22\n",
      "Episode 600\tAverage Score: 15.29\n",
      "Episode 700\tAverage Score: 15.45\n",
      "Episode 800\tAverage Score: 14.48\n",
      "Episode 900\tAverage Score: 15.55\n",
      "Episode 1000\tAverage Score: 14.91\n",
      "Episode 1100\tAverage Score: 15.52\n",
      "Episode 1200\tAverage Score: 15.42\n",
      "Episode 1300\tAverage Score: 15.38\n",
      "Episode 1400\tAverage Score: 15.11\n",
      "Episode 1500\tAverage Score: 14.77\n",
      "Episode 1600\tAverage Score: 15.16\n",
      "Episode 1700\tAverage Score: 15.73\n",
      "Episode 1800\tAverage Score: 14.71\n",
      "Episode 1900\tAverage Score: 14.86\n",
      "Episode 2000\tAverage Score: 14.44\n"
     ]
    }
   ],
   "source": [
    "Settings = {\n",
    "    \"n_episodes\": 2000, # maximum number of training episodes\n",
    "    \"max_t\": 1000, # maximum number of timesteps per episode\n",
    "    \"min_avg_score\": 13., # minimum average score over 100 episodes that the agent must achieve to consider the task fulfilled\n",
    "    \"eps_start\": 1.0, # starting value of epsilon, for epsilon-greedy action selection\n",
    "    \"eps_end\": 0.01, # minimum value of epsilon\n",
    "    \"eps_decay\": 0.95, # multiplicative factor (per episode) for decreasing epsilon\n",
    "    \"continue_learning\": True, # if true, the agent continues to learn after reaching min_avg_score until reaching n_episodes\n",
    "    \"filename\": \"DQN\" #  name for the file that contains the trained network parameters\n",
    "}\n",
    "\n",
    "# start training\n",
    "scores_dqn = dqn(env, brain_name, agent, **Settings)"
   ]
  },
  {
   "cell_type": "markdown",
   "metadata": {},
   "source": [
    "### 2.2 Double DQN with Prioritized Experience Replay "
   ]
  },
  {
   "cell_type": "code",
   "execution_count": 8,
   "metadata": {},
   "outputs": [],
   "source": [
    "# set-up replay buffer\n",
    "ReplayBufferInput = {\n",
    "    \"action_size\": action_size,  # dimension of each action\n",
    "    \"buffer_size\": int(1e5),  # replay buffer size\n",
    "    \"batch_size\": 64,  # minibatch size\n",
    "    \"random_seed\": 0,\n",
    "    \"alpha\": 0.7,\n",
    "    \"beta\": 0.5\n",
    "}\n",
    "\n",
    "replay_buffer_prioritized_sampling = ReplayBuffer(**ReplayBufferInput)"
   ]
  },
  {
   "cell_type": "code",
   "execution_count": 9,
   "metadata": {},
   "outputs": [],
   "source": [
    "# set-up the agent \n",
    "AgentInput = {\n",
    "    \"state_size\": state_size, # dimension of each state\n",
    "    \"action_size\": action_size, # dimension of each action\n",
    "    \"seed\": 0, # random seed\n",
    "    \"replay_buffer\": replay_buffer_prioritized_sampling, # replay buffer\n",
    "    \"gamma\": 0.99, # discount factor\n",
    "    \"tau\": 1e-3, # for soft update of target parameters\n",
    "    \"learning_rate\": 5e-4, # learning rate\n",
    "    \"update_local_every\": 2, # how often to update the local network\n",
    "    \"update_target_every\": 4, # how often to update the target network\n",
    "    \"dqn_extensions\": [DQNExtensions.DoubleDQN] # if empty, the standard DQN algorithm is used for learning.\n",
    "    \n",
    "}\n",
    "\n",
    "agent_double_dqn_prioritized_experience_sampling = Agent(**AgentInput)"
   ]
  },
  {
   "cell_type": "code",
   "execution_count": 10,
   "metadata": {},
   "outputs": [
    {
     "name": "stdout",
     "output_type": "stream",
     "text": [
      "Episode 100\tAverage Score: 11.06\n",
      "Episode 115\tAverage Score: 13.01\n",
      "Environment solved in 15 episodes!\tAverage Score: 13.01\n",
      "Episode 200\tAverage Score: 14.25\n",
      "Episode 300\tAverage Score: 14.29\n",
      "Episode 400\tAverage Score: 14.18\n",
      "Episode 500\tAverage Score: 15.89\n",
      "Episode 600\tAverage Score: 15.81\n",
      "Episode 700\tAverage Score: 15.29\n",
      "Episode 800\tAverage Score: 15.35\n",
      "Episode 900\tAverage Score: 15.60\n",
      "Episode 1000\tAverage Score: 15.72\n",
      "Episode 1100\tAverage Score: 16.00\n",
      "Episode 1200\tAverage Score: 13.96\n",
      "Episode 1300\tAverage Score: 13.91\n",
      "Episode 1400\tAverage Score: 14.74\n",
      "Episode 1500\tAverage Score: 15.64\n",
      "Episode 1600\tAverage Score: 15.26\n",
      "Episode 1700\tAverage Score: 15.83\n",
      "Episode 1800\tAverage Score: 14.52\n",
      "Episode 1900\tAverage Score: 14.88\n",
      "Episode 2000\tAverage Score: 15.06\n"
     ]
    }
   ],
   "source": [
    "Settings = {\n",
    "    \"n_episodes\": 2000, # maximum number of training episodes\n",
    "    \"max_t\": 1000, # maximum number of timesteps per episode\n",
    "    \"min_avg_score\": 13., # minimum average score over 100 episodes that the agent must achieve to consider the task fulfilled\n",
    "    \"eps_start\": 1.0, # starting value of epsilon, for epsilon-greedy action selection\n",
    "    \"eps_end\": 0.01, # minimum value of epsilon\n",
    "    \"eps_decay\": 0.95, # multiplicative factor (per episode) for decreasing epsilon\n",
    "    \"continue_learning\": True, # if true, the agent continues to learn after reaching min_avg_score until reaching n_episodes\n",
    "    \"filename\": \"DoubleDQN_PrioritizedExperienceSampling\" #  name for the file that contains the trained network parameters\n",
    "}\n",
    "\n",
    "# start training\n",
    "scores_double_dqn_prioritized_experience_sampling = dqn(env, brain_name, agent, **Settings)"
   ]
  },
  {
   "cell_type": "markdown",
   "metadata": {},
   "source": [
    "## 3. Visualize and compare the results"
   ]
  },
  {
   "cell_type": "code",
   "execution_count": 30,
   "metadata": {},
   "outputs": [
    {
     "data": {
      "text/plain": [
       "<matplotlib.legend.Legend at 0x7fe81281b2e8>"
      ]
     },
     "execution_count": 30,
     "metadata": {},
     "output_type": "execute_result"
    },
    {
     "data": {
      "image/png": "[encoded data removed]",
      "text/plain": [
       "<Figure size 432x288 with 1 Axes>"
      ]
     },
     "metadata": {
      "needs_background": "light"
     },
     "output_type": "display_data"
    },
    {
     "data": {
      "image/png": "[encoded data removed]",
      "text/plain": [
       "<Figure size 432x288 with 1 Axes>"
      ]
     },
     "metadata": {
      "needs_background": "light"
     },
     "output_type": "display_data"
    }
   ],
   "source": [
    "import pandas as pd\n",
    "\n",
    "# plot the scores\n",
    "fig = plt.figure()\n",
    "ax = fig.add_subplot(111)\n",
    "dqn_plot, = ax.plot(np.arange(len(scores_dqn)), scores_dqn)\n",
    "dqn_plot.set_label('DQN')\n",
    "double_dqn, = ax.plot(np.arange(len(scores_double_dqn_prioritized_experience_sampling)), \n",
    "                     scores_double_dqn_prioritized_experience_sampling)\n",
    "double_dqn.set_label(\"Double DQN with Prioritized Ex. Replay\")\n",
    "plt.ylabel('Score')\n",
    "plt.xlabel('Episode #')\n",
    "ax.legend()\n",
    "\n",
    "\n",
    "# plot the scores\n",
    "fig = plt.figure()\n",
    "ax = fig.add_subplot(111)\n",
    "dqn_plot, = ax.plot(pd.DataFrame(scores_dqn).rolling(50).mean())\n",
    "dqn_plot.set_label('DQN')\n",
    "double_dqn, = ax.plot(pd.DataFrame(scores_double_dqn_prioritized_experience_sampling).rolling(50).mean())\n",
    "double_dqn.set_label(\"Double DQN with Prioritized Ex. Replay\")\n",
    "plt.ylabel('Score')\n",
    "plt.xlabel('Episode #')\n",
    "ax.legend()\n"
   ]
  },
  {
   "cell_type": "code",
   "execution_count": 12,
   "metadata": {},
   "outputs": [],
   "source": [
    "def visualize_agent(agent, env, env_info):\n",
    "    env_info = env.reset(train_mode=False)[brain_name] # reset the environment\n",
    "    state = env_info.vector_observations[0]            # get the current state\n",
    "    score = 0                                          # initialize the score\n",
    "    while True:\n",
    "        action = agent.act(state)                      # select an action\n",
    "        env_info = env.step(action)[brain_name]        # send the action to the environment\n",
    "        next_state = env_info.vector_observations[0]   # get the next state\n",
    "        reward = env_info.rewards[0]                   # get the reward\n",
    "        done = env_info.local_done[0]                  # see if episode has finished\n",
    "        score += reward                                # update the score\n",
    "        state = next_state                             # roll over the state to next time step\n",
    "        if done:                                       # exit loop if episode finished\n",
    "            break\n",
    "\n",
    "    print(\"Score: {}\".format(score))"
   ]
  },
  {
   "cell_type": "code",
   "execution_count": 13,
   "metadata": {},
   "outputs": [
    {
     "name": "stdout",
     "output_type": "stream",
     "text": [
      "Score: 14.0\n"
     ]
    }
   ],
   "source": [
    "# see the agent acting in the environment\n",
    "\n",
    "agent_double_dqn_prioritized_experience_sampling.qnetwork_local.load_state_dict(\n",
    "    torch.load('DoubleDQN_PrioritizedExperienceSampling.pth'))\n",
    "\n",
    "visualize_agent(agent_double_dqn_prioritized_experience_sampling, env, env_info)"
   ]
  },
  {
   "cell_type": "markdown",
   "metadata": {},
   "source": [
    "When finished, you can close the environment."
   ]
  },
  {
   "cell_type": "code",
   "execution_count": 14,
   "metadata": {},
   "outputs": [],
   "source": [
    "env.close()"
   ]
  }
 ],
 "metadata": {
  "kernelspec": {
   "display_name": "drlnd",
   "language": "python",
   "name": "drlnd"
  },
  "language_info": {
   "codemirror_mode": {
    "name": "ipython",
    "version": 3
   },
   "file_extension": ".py",
   "mimetype": "text/x-python",
   "name": "python",
   "nbconvert_exporter": "python",
   "pygments_lexer": "ipython3",
   "version": "3.6.13"
  }
 },
 "nbformat": 4,
 "nbformat_minor": 2
}
